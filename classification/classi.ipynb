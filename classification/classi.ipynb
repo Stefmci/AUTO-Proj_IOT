{
 "cells": [
  {
   "cell_type": "markdown",
   "id": "0ca32e1f",
   "metadata": {},
   "source": [
    "# Daten Klassifizieren\n",
    "---"
   ]
  },
  {
   "cell_type": "markdown",
   "id": "e28e7411",
   "metadata": {},
   "source": [
    "## Aufgabenstellung\n",
    "\n",
    "- 🏆 Aufgabe 12.4 (20%): Klassifikationsmodell für defekte Flaschen\n",
    "Abgabeformalien: Fügen sie ein Kapitel in ihrer Dokumentation hinzu, in dem Sie die Ergebnisse der Klasisfikation mittels Confusion Matrix und unten gezeigter Tabelle dokumentieren\n",
    "- Erstellen Sie ein Klassifikationsmodell zur Vorhersage von defekten Flaschen anhand der Daten aus der Drop Vibration. Diese repräsentieren eine Zeitreihe der Vibrationen von Flaschen bei der Vereinzelung.\n",
    "- Erstellen Sie eine Tabelle, welche die genuzten Spalten für die Vorhersage enthält und den F1-Score für die jeweiligen Spalten\n",
    "- Als Orientierung kann folgendes Notebook dienen 9_Classification_Python.ipynb, welches auch im nächsten Abschnitt vorgestellt wird"
   ]
  },
  {
   "cell_type": "markdown",
   "id": "363fe9fb",
   "metadata": {},
   "source": [
    "## Imports"
   ]
  },
  {
   "cell_type": "code",
   "execution_count": 6,
   "id": "e0a834af",
   "metadata": {},
   "outputs": [],
   "source": [
    "# Load NeuroKit and other useful packages\n",
    "# Install NeuroKit with pip install neurokit2 in notebook: pip install neurokit2\n",
    "\n",
    "import neurokit2 as nk\n",
    "import numpy as np\n",
    "import pandas as pd\n",
    "import seaborn as sns"
   ]
  },
  {
   "cell_type": "code",
   "execution_count": null,
   "id": "a6477604",
   "metadata": {},
   "outputs": [],
   "source": [
    "# Alternate heart rate and noise levels\n",
    "ecg50 = nk.ecg_simulate(duration=10, noise=0.05, heart_rate=50)\n",
    "ecg100 = nk.ecg_simulate(duration=10, noise=0.01, heart_rate=100)\n",
    "\n",
    "# Visualize\n",
    "ecg_df = pd.DataFrame({\"ECG_100\": ecg100, \"ECG_50\": ecg50})\n",
    "\n",
    "nk.signal_plot(ecg_df, subplots=True)"
   ]
  },
  {
   "cell_type": "markdown",
   "id": "16c024e8",
   "metadata": {},
   "source": [
    "---\n",
    "## Simulation"
   ]
  },
  {
   "cell_type": "code",
   "execution_count": null,
   "id": "c938bb31",
   "metadata": {},
   "outputs": [],
   "source": [
    "data = {}\n",
    "\n",
    "typ = \"Ruhe EKG\"\n",
    "for i in range(100):\n",
    "    heart_rate = np.random.normal(70, 35)\n",
    "    # Ensure heart rate is positive\n",
    "    if heart_rate < 40:\n",
    "        heart_rate = 40\n",
    "    data[i] = {}\n",
    "    data[i][\"EGK\"] = nk.ecg_simulate(duration=10, noise=0.1, heart_rate=heart_rate)\n",
    "    data[i][\"Type\"] = typ\n",
    "print(i)\n",
    "\n",
    "\n",
    "typ = \"Belastung EKG\"\n",
    "for i in range(100,200):\n",
    "    heart_rate = np.random.normal(140, 60)\n",
    "    if heart_rate < 40:\n",
    "        heart_rate = 40\n",
    "    data[i] = {}\n",
    "    data[i][\"EGK\"] = nk.ecg_simulate(duration=10, noise=0.1, heart_rate=heart_rate)\n",
    "    data[i][\"Type\"] = typ\n",
    "print(i)"
   ]
  },
  {
   "cell_type": "markdown",
   "id": "f51dddb0",
   "metadata": {},
   "source": [
    "---\n",
    "## Visualisierung"
   ]
  },
  {
   "cell_type": "code",
   "execution_count": null,
   "id": "b2f5294d",
   "metadata": {},
   "outputs": [],
   "source": [
    "data[0]\n",
    "\n",
    "# Visualize\n",
    "ecg_df = pd.DataFrame({\"Ruhe_1\": data[0][\"EGK\"], \"Belastung_1\": data[100][\"EGK\"]})\n",
    "\n",
    "nk.signal_plot(ecg_df, subplots=True)\n"
   ]
  },
  {
   "cell_type": "code",
   "execution_count": null,
   "id": "2dc3d9ca",
   "metadata": {},
   "outputs": [],
   "source": [
    "## make a dataframe with the mean and standard deviation of the ECG signals\n",
    "\n",
    "df = pd.DataFrame(data).T\n",
    "df[\"Mean\"] = df[\"EGK\"].apply(np.mean)\n",
    "df[\"STD\"] = df[\"EGK\"].apply(np.std)\n",
    "df.head()"
   ]
  },
  {
   "cell_type": "code",
   "execution_count": null,
   "id": "f3659d2c",
   "metadata": {},
   "outputs": [],
   "source": [
    "# make a boxplot of the mean of the ECG signals\n",
    "\n",
    "sns.boxplot(x=\"Type\", y=\"Mean\", data=df)"
   ]
  },
  {
   "cell_type": "code",
   "execution_count": null,
   "id": "4ce2514f",
   "metadata": {},
   "outputs": [],
   "source": [
    "# make a boxplot of the mean of the ECG signals\n",
    "\n",
    "sns.boxplot(x=\"Type\", y=\"STD\", data=df)"
   ]
  },
  {
   "cell_type": "markdown",
   "id": "6719754d",
   "metadata": {},
   "source": [
    "---\n",
    "# Feature Engineering\n",
    "Hiermit haben wir bereits den ersten Schritt im Feature Engineering gemacht und können Mean und STD als Features verwenden."
   ]
  },
  {
   "cell_type": "code",
   "execution_count": null,
   "id": "d8c19273",
   "metadata": {},
   "outputs": [],
   "source": [
    "df.head()"
   ]
  },
  {
   "cell_type": "code",
   "execution_count": null,
   "id": "089d7210",
   "metadata": {},
   "outputs": [],
   "source": [
    "### Fourier Transform\n",
    "\n",
    "# Add colums for different frequencies\n",
    "\n",
    "for i in range(1, 100):\n",
    "    df[f\"Freq_{i}\"] = df[\"EGK\"].apply(lambda x: np.abs(np.fft.fft(x))[i])\n",
    "df.head()\n"
   ]
  },
  {
   "cell_type": "code",
   "execution_count": null,
   "id": "c32150ab",
   "metadata": {},
   "outputs": [],
   "source": [
    "# Make a plot for the Frequencies of the first ECG signal\n",
    "\n",
    "for id in [0,1,100,101]:\n",
    "\n",
    "    plt = df.iloc[id, 4:].plot()\n",
    "    plt.set_title(df.iloc[id, 1])\n",
    "    plt.set_xlabel(\"Frequenz\")\n",
    "    plt.set_ylabel(\"Amplitude\")\n",
    "    plt.legend()\n"
   ]
  },
  {
   "cell_type": "code",
   "execution_count": null,
   "id": "9ddaa442",
   "metadata": {},
   "outputs": [],
   "source": [
    "# Melt the DataFrame so that we have a column for the type and the frequency\n",
    "\n",
    "df_melted = pd.melt(df, id_vars=[\"Type\"], value_vars=df.columns[4:])\n",
    "df_melted.head()"
   ]
  },
  {
   "cell_type": "code",
   "execution_count": null,
   "id": "bc687c44",
   "metadata": {},
   "outputs": [],
   "source": [
    "# plot the frequencies grouped by type\n",
    "\n",
    "sns.lineplot(x=\"variable\", y=\"value\", hue=\"Type\", data=df_melted)\n"
   ]
  },
  {
   "cell_type": "markdown",
   "id": "a7bac10f",
   "metadata": {},
   "source": [
    "---\n",
    "## Daten aufteilen"
   ]
  },
  {
   "cell_type": "code",
   "execution_count": null,
   "id": "b3220b66",
   "metadata": {},
   "outputs": [],
   "source": [
    "y = df['Type']\n",
    "# X = df.drop(['Type','EGK'], axis=1)\n",
    "X = df[['Mean', 'STD']]\n",
    "from sklearn.model_selection import train_test_split\n",
    "\n",
    "X_train, X_test, y_train, y_test = train_test_split(X, y, test_size=0.2, random_state=42)\n",
    "X_train.head()"
   ]
  },
  {
   "cell_type": "code",
   "execution_count": null,
   "id": "38c741b3",
   "metadata": {},
   "outputs": [],
   "source": [
    "df = pd.get_dummies(df, columns=['Type'])"
   ]
  },
  {
   "cell_type": "markdown",
   "id": "2068d99d",
   "metadata": {},
   "source": [
    "---\n",
    "## Trainieren des Modells"
   ]
  },
  {
   "cell_type": "code",
   "execution_count": null,
   "id": "314d3706",
   "metadata": {},
   "outputs": [],
   "source": [
    "import numpy as np\n",
    "from sklearn.linear_model import LogisticRegression\n",
    "\n",
    "model = LogisticRegression()\n",
    "\n",
    "model.fit(X_train, y_train)\n",
    "\n",
    "model.coef_"
   ]
  },
  {
   "cell_type": "code",
   "execution_count": null,
   "id": "83880ad2",
   "metadata": {},
   "outputs": [],
   "source": [
    "y_pred = model.predict(X_train)\n",
    "\n",
    "y_pred"
   ]
  },
  {
   "cell_type": "code",
   "execution_count": null,
   "id": "e952f466",
   "metadata": {},
   "outputs": [],
   "source": [
    "df_result = pd.DataFrame({'Actual': y_train, 'Predicted': y_pred})\n",
    "df_result.merge(X_train, left_index=True, right_index=True)\n",
    "\n",
    "df_result\n"
   ]
  },
  {
   "cell_type": "markdown",
   "id": "0e01977c",
   "metadata": {},
   "source": [
    "---\n",
    "## Evaluieren"
   ]
  },
  {
   "cell_type": "code",
   "execution_count": null,
   "id": "ed0c90cf",
   "metadata": {},
   "outputs": [],
   "source": [
    "from sklearn.metrics import confusion_matrix\n",
    "\n",
    "confusion_matrix(y_train, y_pred)"
   ]
  },
  {
   "cell_type": "code",
   "execution_count": null,
   "id": "f3969c2e",
   "metadata": {},
   "outputs": [],
   "source": [
    "from sklearn.metrics import ConfusionMatrixDisplay\n",
    "\n",
    "cm = confusion_matrix(y_train, y_pred)\n",
    "\n",
    "disp = ConfusionMatrixDisplay(confusion_matrix=cm, display_labels=model.classes_)\n",
    "\n",
    "disp.plot()\n"
   ]
  },
  {
   "cell_type": "code",
   "execution_count": null,
   "id": "f22c7f0a",
   "metadata": {},
   "outputs": [],
   "source": [
    "# Weitere Fehlermetriken\n",
    "\n",
    "from sklearn.metrics import classification_report\n",
    "\n",
    "print(classification_report(y_train, y_pred))\n"
   ]
  },
  {
   "cell_type": "markdown",
   "id": "d96837d1",
   "metadata": {},
   "source": [
    "---\n",
    "## Evalusieren auf den Testdaten"
   ]
  },
  {
   "cell_type": "code",
   "execution_count": null,
   "id": "8de74885",
   "metadata": {},
   "outputs": [],
   "source": [
    "y_pred = model.predict(X_test)\n",
    "\n",
    "cm = confusion_matrix(y_test, y_pred)\n",
    "\n",
    "disp = ConfusionMatrixDisplay(confusion_matrix=cm, display_labels=model.classes_)\n",
    "\n",
    "disp.plot()"
   ]
  },
  {
   "cell_type": "markdown",
   "id": "50060065",
   "metadata": {},
   "source": [
    "---\n",
    "## k-Nearest Neighbors"
   ]
  },
  {
   "cell_type": "code",
   "execution_count": null,
   "id": "206c8499",
   "metadata": {},
   "outputs": [],
   "source": [
    "# Import knn\n",
    "from sklearn.neighbors import KNeighborsClassifier\n",
    "\n",
    "# Define the model with the number of neighbors\n",
    "model = KNeighborsClassifier(n_neighbors=3)\n",
    "\n",
    "# Fit the model\n",
    "\n",
    "model.fit(X_train, y_train)\n",
    "\n",
    "y_pred = model.predict(X_train)\n",
    "\n",
    "cm = confusion_matrix(y_train, y_pred)\n",
    "\n",
    "disp = ConfusionMatrixDisplay(confusion_matrix=cm, display_labels=model.classes_)\n",
    "\n",
    "disp.plot()"
   ]
  },
  {
   "cell_type": "code",
   "execution_count": null,
   "id": "abaa85d1",
   "metadata": {},
   "outputs": [],
   "source": [
    "print(classification_report(y_train, y_pred))"
   ]
  },
  {
   "cell_type": "code",
   "execution_count": null,
   "id": "a8443dbc",
   "metadata": {},
   "outputs": [],
   "source": [
    "y_pred = grid_search.predict(X_test)\n",
    "\n",
    "print(classification_report(y_test, y_pred))"
   ]
  },
  {
   "cell_type": "code",
   "execution_count": null,
   "id": "8830ab46",
   "metadata": {},
   "outputs": [],
   "source": [
    "### Decision Tree\n",
    "\n",
    "from sklearn.tree import DecisionTreeClassifier\n",
    "\n",
    "model = DecisionTreeClassifier()\n",
    "\n",
    "model.fit(X_train, y_train)\n",
    "\n",
    "y_pred = model.predict(X_train)\n",
    "\n",
    "cm = confusion_matrix(y_train, y_pred)\n",
    "\n",
    "disp = ConfusionMatrixDisplay(confusion_matrix=cm, display_labels=model.classes_)\n",
    "\n",
    "disp.plot()"
   ]
  },
  {
   "cell_type": "code",
   "execution_count": null,
   "id": "b562f0b3",
   "metadata": {},
   "outputs": [],
   "source": [
    "print(classification_report(y_train, y_pred))"
   ]
  },
  {
   "cell_type": "code",
   "execution_count": null,
   "id": "9f70f826",
   "metadata": {},
   "outputs": [],
   "source": [
    "y_pred = model.predict(X_test)\n",
    "\n",
    "cm = confusion_matrix(y_test, y_pred)\n",
    "\n",
    "disp = ConfusionMatrixDisplay(confusion_matrix=cm, display_labels=model.classes_)\n",
    "\n",
    "disp.plot()\n",
    "\n",
    "print(classification_report(y_test, y_pred))\n"
   ]
  },
  {
   "cell_type": "markdown",
   "id": "fb6e97bc",
   "metadata": {},
   "source": [
    "---\n",
    "## Visualisierung decision tree"
   ]
  },
  {
   "cell_type": "code",
   "execution_count": null,
   "id": "2e83dbb2",
   "metadata": {},
   "outputs": [],
   "source": [
    "# Plot the decision tree\n",
    "from sklearn import tree\n",
    "import matplotlib.pyplot as plt\n",
    "\n",
    "plt.figure(figsize=(20,10))\n",
    "tree.plot_tree(model, filled=True, feature_names=X.columns, class_names=model.classes_)\n",
    "plt.show()"
   ]
  },
  {
   "cell_type": "code",
   "execution_count": null,
   "id": "d40d7244",
   "metadata": {},
   "outputs": [],
   "source": [
    "# Define a decision tree with a maximum depth of 2\n",
    "\n",
    "model = DecisionTreeClassifier(max_depth=2)\n",
    "\n",
    "model.fit(X_train, y_train)\n",
    "\n",
    "y_pred = model.predict(X_train)\n",
    "\n",
    "cm = confusion_matrix(y_train, y_pred)\n",
    "\n",
    "disp = ConfusionMatrixDisplay(confusion_matrix=cm, display_labels=model.classes_)\n",
    "\n",
    "disp.plot()\n",
    "\n",
    "print(classification_report(y_train, y_pred))"
   ]
  },
  {
   "cell_type": "code",
   "execution_count": null,
   "id": "383be9ef",
   "metadata": {},
   "outputs": [],
   "source": [
    "# Test Set\n",
    "\n",
    "y_pred = model.predict(X_test)\n",
    "\n",
    "cm = confusion_matrix(y_test, y_pred)\n",
    "\n",
    "disp = ConfusionMatrixDisplay(confusion_matrix=cm, display_labels=model.classes_)\n",
    "\n",
    "disp.plot()"
   ]
  },
  {
   "cell_type": "code",
   "execution_count": null,
   "id": "ccef29ad",
   "metadata": {},
   "outputs": [],
   "source": [
    "# Plot the decision tree\n",
    "\n",
    "plt.figure(figsize=(20,10))\n",
    "\n",
    "tree.plot_tree(model, filled=True, feature_names=X.columns, class_names=model.classes_)\n",
    "\n",
    "plt.show()\n"
   ]
  },
  {
   "cell_type": "markdown",
   "id": "89c1ae36",
   "metadata": {},
   "source": [
    "---\n",
    "# weitere Kniffe\n",
    "\n",
    "## Dummy Var"
   ]
  },
  {
   "cell_type": "code",
   "execution_count": null,
   "id": "b64dd844",
   "metadata": {},
   "outputs": [],
   "source": [
    "df.head()"
   ]
  },
  {
   "cell_type": "code",
   "execution_count": null,
   "id": "b2617f8a",
   "metadata": {},
   "outputs": [],
   "source": [
    "pd.get_dummies(df['Type'])"
   ]
  },
  {
   "cell_type": "markdown",
   "id": "98a98efd",
   "metadata": {},
   "source": [
    "\n",
    "### Normalisieren von Daten"
   ]
  },
  {
   "cell_type": "code",
   "execution_count": null,
   "id": "275576f0",
   "metadata": {},
   "outputs": [],
   "source": [
    "# Standardize the Freq_1 column using the standard scaler\n",
    "\n",
    "from sklearn.preprocessing import StandardScaler\n",
    "\n",
    "scaler = StandardScaler()\n",
    "\n",
    "df['Freq_1'] = scaler.fit_transform(df[['Freq_1']])\n",
    "\n",
    "df.head()\n"
   ]
  },
  {
   "cell_type": "code",
   "execution_count": null,
   "id": "4de8beb2",
   "metadata": {},
   "outputs": [],
   "source": [
    "# Normalize the Freq_2 column using the MinMaxScaler\n",
    "\n",
    "from sklearn.preprocessing import MinMaxScaler\n",
    "\n",
    "scaler = MinMaxScaler()\n",
    "\n",
    "df['Freq_2'] = scaler.fit_transform(df[['Freq_2']])\n",
    "\n",
    "df.head()\n",
    "\n",
    "import pandas as pd\n",
    "\n",
    "df = pd.read_csv('bottle_data.csv')\n",
    "print(df)"
   ]
  }
 ],
 "metadata": {
  "kernelspec": {
   "display_name": ".venv",
   "language": "python",
   "name": "python3"
  },
  "language_info": {
   "codemirror_mode": {
    "name": "ipython",
    "version": 3
   },
   "file_extension": ".py",
   "mimetype": "text/x-python",
   "name": "python",
   "nbconvert_exporter": "python",
   "pygments_lexer": "ipython3",
   "version": "3.13.1"
  }
 },
 "nbformat": 4,
 "nbformat_minor": 5
}
